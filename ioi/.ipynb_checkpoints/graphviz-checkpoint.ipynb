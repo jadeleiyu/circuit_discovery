{
 "cells": [
  {
   "cell_type": "code",
   "execution_count": 13,
   "id": "80350511-db18-4bd9-bb39-a262de2baf62",
   "metadata": {
    "scrolled": true
   },
   "outputs": [
    {
     "name": "stdout",
     "output_type": "stream",
     "text": [
      "digraph {\n",
      "\t\"1-1\" -> \"0-1\"\n",
      "}\n",
      "\n"
     ]
    },
    {
     "data": {
      "text/plain": [
       "'sample.pdf'"
      ]
     },
     "execution_count": 13,
     "metadata": {},
     "output_type": "execute_result"
    },
    {
     "name": "stderr",
     "output_type": "stream",
     "text": [
      "Cannot parse arguments: Cannot open display: \n",
      "Cannot parse arguments: Cannot open display: \n",
      "/cvmfs/soft.computecanada.ca/gentoo/2020/usr/bin/xdg-open: line 871: x-www-browser: command not found\n",
      "/cvmfs/soft.computecanada.ca/gentoo/2020/usr/bin/xdg-open: line 871: firefox: command not found\n",
      "/cvmfs/soft.computecanada.ca/gentoo/2020/usr/bin/xdg-open: line 871: iceweasel: command not found\n",
      "/cvmfs/soft.computecanada.ca/gentoo/2020/usr/bin/xdg-open: line 871: seamonkey: command not found\n",
      "/cvmfs/soft.computecanada.ca/gentoo/2020/usr/bin/xdg-open: line 871: mozilla: command not found\n",
      "/cvmfs/soft.computecanada.ca/gentoo/2020/usr/bin/xdg-open: line 871: epiphany: command not found\n"
     ]
    },
    {
     "name": "stdout",
     "output_type": "stream",
     "text": [
      "Opening \"sample.pdf\" with Atril Document Viewer  (application/pdf)\n",
      "   %PDF-1.5 %���� obj << /Length 5 0 R /Filter /FlateDecode >> stream\n",
      "   x���AO�0 ��>n�f~I���I.i..��i.T�Mh=..�>N���..�j�$/�?.,�5���x�\n",
      "   蕤�=���I�����B��.~&.߱Fn.O9w��Np\n",
      "   �;[�8r��h�Qf�)�5��V���%Ǳ�1i�Ϧ�l��:�ہ�!:.�1V�˲�]�\\���<L��7�'.{�.�DZ4K��n����.ä\n",
      "   ��Wd�)Ϙ�̖� :����G\n",
      "   /e���/�-̈́Y�&�W.�..!�J) P�'rAZ.5��*��ip>i.U�R�t)�K��-Zk.�ŉ�puv�#�0���>..�{�ndstream\n",
      "   endobj 5 0 obj 290 endobj 3 0 obj << /ExtGState << /a0 << /CA 1 /ca 1 >>\n",
      "   >> /Font << /f-0-0 6 0 R >> >> endobj 2 0 obj << /Type /Page % 1 /Parent 1\n",
      "   0 R /MediaBox [ 0 0 134 188 ] /Contents 4 0 R /Group << /Type /Group /S\n",
      "   /Transparency /I true /CS /DeviceRGB >> /Resources 3 0 R >> endobj 7 0 obj\n",
      "   << /Length 8 0 R /Filter /FlateDecode /Length1 1407 /Length2 6493 /Length3\n",
      "   545 >> stream x��ygTS��..RB�\".,z��ޑ�.)�I�HIH.H.TPz.��{.�\n",
      "   �Qz�&]i\"E�t./�}��߾�| ����oe���>Ϝ�;���fd��.Q��..Z(w�.D.,..\"�<��(7C��-.c��'p�K�xxL�8W�\n",
      "   .��!0X$�]����.w h@q�.&Ξ���..�.. y����. ..��.1(..�:\n",
      "   ��A:9��� =.�B� !.999������\"��޿ \\�^.W.+ ��S.�/aWW$\n",
      "   pr�A;c.(.����0��\"\\.-�+.�Fy.�,.\"r��.î.�eK $�.�.\n",
      "   ����.���á���/)�ߔ(�Q��.����t����~W�.�~'k\n",
      "   1.�e�>b�a�.�(ow���8\"���7.��h1Sw��'BW��x.�B.�PW,.��dA �N..\n",
      "   ...�I@.�.�x.s.�.ñ.ù. u�.�\n",
      "   鈸����x\".�...�.p@8!�A �_��?�P..ù.�.�^...�~�p����_��P7. �.EbP ��TSC=.�D\n",
      "   Ҳ���,.��/[�.�..�&.�E����\"�������r|����ow\n",
      "   . �3D��0ĥq�eOk�.�ҙ�7� ���� ���ͯ��� +�e� �P�����Y��i'��OPw��R�-෧\\�� O��!]}���\n",
      "   7G�yV�;9].�w'� �..Cb��..p#$.���I���.W�;��E��..D\n",
      "   `��M�8#a.���� p.w�t���Hw'@\\J.�b0P..�Ґ�RR�..�<H�. �.@L���L.О�.����~.@R\n",
      "   .s�.?����\"0��.9@\n",
      "   ���c���G���.+�9..â...:}�����v�{QR��¹>._��w���?�Yڸ���A��.���5F..���VGܛ�'L]vtF�,W.18���w7��\n",
      "   ��Ǯ��|.8....�.I4�9�%�C.�rS���M�]�+Q����.t��.��ܸY��u�'.+��^�M����.�W.`.�N`ɜ0i�{�c�u%̔�*y*..EG�//.��S.�0��ikZXY/K�l)��h�\"T���B��|Rv�}ZW�U�E���ɥ��񨵷@X]��`>��������19�\\+���1[3.��k���.Cb?\"9X��E,��1g��|&\n",
      "   L�Ų7�ˡݡ�t\\�I���ƃOk�5�b.}.���.Vj�b��.�F�YB�~��}�/���L�^�0��tN.3�E�>8U M��=\n",
      "   c)��,�Yi�.Z.Ş�.�����1�ɥ�W�sY�<.a\"|��\n",
      "   g�.8*�u3�f��4��[�ۚȈ5���\\�...�w�F�.��oU�=�?.t7��\n",
      "   ��'Bt���F��̳9��6Z.z;..{��FL�)�o�.8W���$2�.�MԖ��{v�u��B�����|iI�*�e[D�.��AQjDM�k�����[���\"�}��.��M�֚#Ԙ[,� ֜/¹.vp��.�7���.���GE/�>��R�̲��s�_d.o..�5o�'�0�K^&��:�y�a��<:��c[�>nJ.˹��������h�O��:���V�n$��b�\n",
      "   蓟 ].�6�*w�����ա�٫=~K����.��h��L�Gؼ҉�.��%����L�>؎���Z�۱{&���..��'>;���XP���u����O�N�MXL�f!��2��\n",
      "   䩶D��0��[����3�Ao�̙�͠V�t��ח.�v3h.ç\n",
      "   <��.��b���..�N�:�m6.��Tp.��$eE>Tt��35..�.�zcd�UcrVz �w �����v�\n",
      "   ]؛�.ü.���O.�V�4�.?UY�� 3w��!�N.-r.!��9�+j����7�c?�q.~�F���z\n",
      "   ��Mo�/͟.���.\\.�K�Δȅh˲l ߕ.��Ƌh.�O�K<��q�-+l{�d�2�Jۧ�3�TX�}_�O:E,�&�Ca�2)\n",
      "   ��<'�0 �tLR���V~�2��b���)����'�s����g�� .\n",
      "   Nw���?[��9�x�F�&a�j���č�;Q��.V�IG�e}v4_�� ���e��X��ר\n",
      "   ᪀V�@6��B/�پ�������h<�.綘:b.�o.���.��.�V4\\a �e��Y>� �9�*��jX�7�B.�Ͱ�ï.��/DL\n",
      "   1��'HF��^����.�Xǈ�hD\\��Q�H�.�r[{.-.â.]���z����q.�\\d�a��>c݀^��L?��R�y�Q.'ɽX���:���˼�#����Q��.���sW����܅J�зM-j��x���ROq;���I��.��.ý.�.�S.�Fc.�.�z�]<ϯ���s���1֙WC���q1�|�2R\"6�j4B�:[��g�R�,�_���dx �͞.�]\n",
      "   xD�=�1+.Fz��q���T�uq��J�e�.���²�u�k�.F.�oI�t�Og�6�%�|����0��&F�+W���{����.�..E�x.��.�..\"KV�=.߁k.=Sd}}�t����u8/eEo�Ў�u�4%i.���Ҡzl�\n",
      "   僰�:KvI-N���cA&����.˗��+���O�N�g= sO�jҫ�t��GIF�5��kE��?���y�TԀB��)��Go��|v6B&�z|�<\n",
      "   �'T��q|w����.71�����.'qtaX��]XoB}w���͚�gR�g�.��'��i.+�Qϝ�3�РUD��6\"�/��ZD?��p4���ŭd������\n",
      "   �ۏ��3���]-�y9U�@xƵ�,��8�S�^.����z�\\\"��d'��6.iaI��C,�K��b�ʸy�=~�'EZ*��JP�\\{��&qҎڦ�.�\"�/2�Nuף\n",
      "   �sS~��..I4������U�aWĮ�͵���]��I.~�I���i���>�׿ک�.�Ǩ�.(q����2��ꦈe�PO���S�\n",
      "   㢫���օ�������G���r|TR�,9.�.��\n",
      "   .ƐY�\"%.B2���9�.����/..=.\"!�k���.�:�Bt:.��F.�Zv��/��l�=�[�~=%..3�2*f~.{�9v%׹���c��`b�Aaԗ�KU��������� .P�b���q-\n",
      "   懞(�ȋ#�G��_ )\" E����m��D�9��,/ �1�Z�.+T4�\n",
      "   鈰�.�i^%.mk/���W���)���Nu�i���&�?7e��l��N��,\\.���ẗ�pQ.��c..C.�_.0..#ޓ׾>��.>]qC<W�:)��n��<Ez-����\n",
      "   ��T ��j.\n",
      "   S7>~,..h���ZC?�U�Icj,�ү�v�.�.�R#M�,.�r�d��L��b�`�+Y�b�>�4�«K�� ��*�<R�\n",
      "   {b$Mu�����.;��Pe�<�0o�l�ь�.����..����\"}�)ݰ�W�1�.\\�0�w�\n",
      "   �.�.xN;.b.�.��`Lcb�RK.���)�N'1�;^A�V S�ސ2�MIѝ�^)�����vZ��y�x���և$�Rb�4v\n",
      "   ��+��D�R|�L�C2;ټ.��ڍ��!~׶�Q1ZZb6��=�fp�e�.>..As.�͓�is�Dd\"o�%����Z'�!-�q� .^���1!?��7jmL��De�R��ʃEv�.���sB$O^.2��B�ɟeҏ.j.rw.�4.'�w��1tH..~{Mf�A�?�ڌ߮S8�.�.{�`\"���_4[7.����.�@�1��I�ݽ�_.w�<e�rBx٥B!�$4r�4��(����0.'��:�#x���������`W��3{g\n",
      "   ������!s��1.0�zt,zQ歰���'Ѱ�E�����x )`�w |����IA����\"\n",
      "   '���65M��T�+�F����~�ϕ^���</%H���p���u3�w��d,�%�O���y��T�T��&&�!�u�s.�xrc%&����=)���,{lۂ��U�C����a?.�25�=c����#���^�*��nΓ?�}~�M�5����eY.m\n",
      "   �rձ>f̂\"��M.ގI���f��.�[..]����m5���`r�[�FѓI.�����&..z�pڃ;��.�buI�.��P.�N�oM~�B��2!��7h�!r���߲�7�/:nBW��58x�.�-���LI�4�8K2A�;n��R.�4C����\n",
      "   �.e�H�;��R\"�\" å ����B�g���1=H�B�Q�L.����$� {��d9�._��Ӂ��.[=�q\n",
      "   A����ޓ!�.�SU�tНd��W{��3.�.�Dw.���\"}�R�ݳ�S��*\n",
      "   .��Z@p���;����2R�|C����CQ]�l��Y�c��J�iG���h�����>3���fzK.g9�l���͏?.�<LQ(��\n",
      "   I�_��.�T��X����+uh.lq��+eL��^m|��.�t_B\"�����\n",
      "   쨢}.BвUz��;�tq�sҋ���W��'���]ȋ�Ɓ.��v��'V��.��3�}�<�.j.P���Ğ�'��������ۧAx�G.�1��.�?8b��.F.��z.s&��W��1���c���e��`[K���� .�ŖU�\n",
      "   䇝P.5���������I��Z%1�.��2���c� $ ;iX�HUP\\II1��]..2vb��:ɯXݡ�����.\n",
      "   �Ojo���+��w��[5�V�]y��p���U1 .�}�\n",
      "   �����8��z~v#.F�1���=�%a�~+/�.��[�dK�!��l�N.q��\n",
      "   爥��P+�G(�V...�������ä�_.O��F���.�NX�-N�͙.��tu{.��K4+غь�9R�@�dv���k���E.��?�h�9Z��i$�.�.j��1�����2*\n",
      "   ����ɓ@�\n",
      "   e>8��A���q�������m.î.�F�˷��k+�W���CBx���1W({f.=gX¾ƞ�'4��..<͞���jP�׬�i����2.��l5��7�����.��1��I���.sF.\\�����#��}��.w'�SOm�\\�&<{�4v3Gk��܊K�P�C\\6�\n",
      "   퓏�Q�ܝG�|ȯ�K�ѯ#���=.�.�.��l��j.��9b|�$n��b�a�5���`��ӿS��ѯU�,xN.�.�?3U]^�AD�P�@َ?���8�WF'�l[�\n",
      "   㜶��ď�*�����*)�q�.� �����<����X��@��!�3�Jv���I�M�ᔭ�10�)W`.�{\\�W���;.�U..F���T>Z�]����s�R��Sbz�0��eN�Ȩ���D�kD�.-\n",
      "   ������&�.��ݤZ�����e\n",
      "   뗻�$��U��w�4.=/|.-.�UGɎ�q�9xE�?��m�xo���_.�ѧ.O�I22y,�vCÆk�ۈ��F�\\\n",
      "   L��>��g��0J��.3!<f.�� g�.�. 1�3��a��N�.~����wA����K&���x.\n",
      "   .��(�uijCf�v��l���)���j.�p�Z�E�..}.�����;�;0��;e`.P.�BH�.�u���E%O�(��)���NK���\\��A��r\\N�..r���)��m���yU�3�V��b�xz0�Cq.������d�\\�.��[�d��وt����JC�J��/�Y.u��<a.`b0]D�j�џ�\n",
      "   �J�L��[�lf�.K�B>������_����?J�r����K�XU�.ô\n",
      "   2�.4��h��ߧ�':���X��d�V�v��l�]��L��~.l!.�X.ye�.�bxCy{�;�9,X.̱�\n",
      "   �Q����^�G-t�GΦ�1�c(��  ��&]���=1.  /h.�iH���l��s����F� hd����`�.����D�\n",
      "   ������%k���U�R그�*�.��:�#2�)�y*���y}���<�<�d.-'�8E���<���'��/h <�>�%R>\n",
      "   ���Y2~[}�0���hcÐ�$�!�.�&�.֏�N����!��ڄ||�..�e�l}��N�..p��v�ڶ{tٵ��.�DÚ�ݣ�gn�fu�f.?�,R.�����bQ���g5�R��E���.#jGH,*.�D����&y%��r.+.��m������,�}�)��qz�x$ޗ)Ayz�;�ð(�r����Q�^���|c���#�*_��y�_��lI��,�x???`Ig���y�6�����6���|����P.�����Y�$�^�IJ��77�.ָL��i�1�z.�\"o.����)i2���yt�a��f�[*���BF.��ckD.V�Uـ�ʌ�vp�z].ѝ.���5���;/�X�%�\n",
      "   �}�]8}�r.)�]l���m��d(_��u/�(� �3|��o�źx\\�Ӕ�. d��I�T[� ���)�I>p\n",
      "   ��}j�$!H&Y�.V-�{�?�䶦bt���%Ěڡkv`2�<ë��Էuy��%R>ڰ����9?k��R�.>\n",
      "   ����񧟬���+?��-*J�=.K#�n}�s.{q�@x���c����b���O��A��d��f�6*�?w����S.S����/hX.(�...��.3��g���-5�.U.������.õ..sƆ~�\"�Ju������z��Ӫ�u�#�?\n",
      "   ���,�ާ�Q�..B�����x�ճO�;��o&|'l�Vx.�..R..b_uny�N�k��C�cL�Y��_���\n",
      "   '��~����l�j�A�.��;�A�q������ADߌ�d!+z.�W�p.\n",
      "   L��y����)�r��������X7��+>�~�4S�f�+ʉ��#U��VQ.l.�*1���~Ϊ.���T�.gJ�� Й�7G^�����}�O�0�ޏk*�ȕ8E�U���7�l.í.�.c!�:�U�d9�s�q�J��r�Զ�\n",
      "   ���dz��hG^��\\:..�i��S�6�z��'~{?�`�T�.&�����r�9b��6��������s�R8f.ϫ���I\"H\n",
      "   �����U˧�uj�q�Q���nݖN.���3�s�Z2�����m����kZ_ߧt�6ݵ6.���L6gj�B<�����(�^_%�����_��\n",
      "   l�����6˱..轗U>��e�$2���J��$����xd.�mN�F�>Fg���\n",
      "    ��f��Mllf��a߇�.YA#j�z�Tf%o�nx��wn�ӵ5x�z>�<0D3.�V..=���h/L�U&�\"=��5N���Y:.\n",
      "   � ���(X��7p]%�.���.���_]Ԃ~e��W��0m���+`�6�ҡ ��&RT<��KV@�D�Z���Z�tS`\n",
      "   B�w�����{��0P����܆��M{��`a���{3AA���X�x��P��˨�<�\"���z�mC.���&w&7�S.k^=_v��U��4�|����CB.��t���&3N�����d���6.����P�� �Qz.Ƶ��V3�Ի�}.ô.���A����y�})\n",
      "   �7����i0��..crt>D.͌��l��3.����Ei��4�Ky )Ž8ġ.����Ь�lĢ6\n",
      "   ��>�a���0!V*�O?=].�e..�.�j�Uk�OF���̝��*�����#.`�.(.�r�b\\@~...���?�{�\n",
      "   endstream endobj 8 0 obj 7439 endobj 9 0 obj << /Length 10 0 R /Filter\n",
      "   /FlateDecode >> stream x�]P�n� �y\n",
      "   ����(Ru]2�GM��.��!o_���R.0�~�.�k���P@~P�..�!:�%�d.F�B.M\n",
      "   .�r��mg��d��>���Rh�ӳK#>\n",
      "   .����B���hXs��c.%�..z.�j�d5�{�|(ۙm ��-#��o�H69\\��H&N(�R.h�;����.�c��fH�K�J��.ݺ��¸:pUg�����ۏ�v%��u75�*D|�/����f.s�endstream\n",
      "   endobj 10 0 obj 233 endobj 11 0 obj << /Type /FontDescriptor /FontName\n",
      "   /TVWGXP+NimbusRomNo9L-Regu /Flags 4 /FontBBox [ -168 -281 1031 924 ]\n",
      "   /ItalicAngle 0 /Ascent 924 /Descent -281 /CapHeight 924 /StemV 80 /StemH\n",
      "   80 /FontFile 7 0 R >> endobj 6 0 obj << /Type /Font /Subtype /Type1\n",
      "   /BaseFont /TVWGXP+NimbusRomNo9L-Regu /FirstChar 32 /LastChar 49\n",
      "   /FontDescriptor 11 0 R /Encoding /WinAnsiEncoding /Widths [ 0 0 0 0 0 0 0\n",
      "   0 0 0 0 0 0 333 0 0 500 500 ] /ToUnicode 9 0 R >> endobj 1 0 obj << /Type\n",
      "   /Pages /Kids [ 2 0 R ] /Count 1 >> endobj 12 0 obj << /Producer (cairo\n",
      "   1.16.0 (https://cairographics.org)) /CreationDate (D:20240509003515-04'00)\n",
      "   >> endobj 13 0 obj << /Type /Catalog /Pages 1 0 R >> endobj xref 0 14\n",
      "   0000000000 65535 f 0000009158 00000 n 0000000513 00000 n 0000000404 00000\n",
      "   n 0000000015 00000 n 0000000382 00000 n 0000008899 00000 n 0000000731\n",
      "   00000 n 0000008297 00000 n 0000008320 00000 n 0000008631 00000 n\n",
      "   0000008654 00000 n 0000009223 00000 n 0000009340 00000 n trailer << /Size\n",
      "   14 /Root 13 0 R /Info 12 0 R >> startxref 9393 %%EOF\n"
     ]
    },
    {
     "name": "stderr",
     "output_type": "stream",
     "text": [
      "/cvmfs/soft.computecanada.ca/gentoo/2020/usr/bin/xdg-open: line 871: konqueror: command not found\n",
      "/cvmfs/soft.computecanada.ca/gentoo/2020/usr/bin/xdg-open: line 871: chromium: command not found\n",
      "/cvmfs/soft.computecanada.ca/gentoo/2020/usr/bin/xdg-open: line 871: chromium-browser: command not found\n",
      "/cvmfs/soft.computecanada.ca/gentoo/2020/usr/bin/xdg-open: line 871: google-chrome: command not found\n",
      "/cvmfs/soft.computecanada.ca/gentoo/2020/usr/bin/xdg-open: line 871: www-browser: command not found\n",
      "/cvmfs/soft.computecanada.ca/gentoo/2020/usr/bin/xdg-open: line 871: links2: command not found\n"
     ]
    }
   ],
   "source": [
    "from graphviz import Digraph\n",
    "\n",
    "dot = Digraph()\n",
    "# dot.node('1-1','attn-0-0')\n",
    "# dot.node('0-1', 'attn-0-1')\n",
    "# dot.node('C', 'C')\n",
    "dot.edges([('1-1','0-1')])\n",
    "\n",
    "print(dot.source)\n",
    "dot.render('sample', view=True)"
   ]
  },
  {
   "cell_type": "code",
   "execution_count": null,
   "id": "5b13151b-f870-4c77-803c-dbb79c22a1f1",
   "metadata": {},
   "outputs": [],
   "source": []
  },
  {
   "cell_type": "code",
   "execution_count": null,
   "id": "f0d401e2-955f-497f-b031-bc3744837b24",
   "metadata": {},
   "outputs": [],
   "source": []
  },
  {
   "cell_type": "code",
   "execution_count": null,
   "id": "c379bce4-e722-4881-9d4a-d25d28a38cfa",
   "metadata": {},
   "outputs": [],
   "source": []
  },
  {
   "cell_type": "code",
   "execution_count": null,
   "id": "029502d9-db0e-45ab-ae31-86f892e2ce68",
   "metadata": {},
   "outputs": [],
   "source": []
  },
  {
   "cell_type": "code",
   "execution_count": null,
   "id": "15b1c1cc-4172-4b84-bc9a-bee34e9e4d5d",
   "metadata": {},
   "outputs": [],
   "source": []
  },
  {
   "cell_type": "code",
   "execution_count": null,
   "id": "0a773442-e2e6-4e6d-a71c-a107e70b67f5",
   "metadata": {},
   "outputs": [],
   "source": []
  },
  {
   "cell_type": "code",
   "execution_count": null,
   "id": "92a0115e-7971-4ae0-bb24-3673bc8e35d9",
   "metadata": {},
   "outputs": [],
   "source": []
  },
  {
   "cell_type": "code",
   "execution_count": null,
   "id": "b9ffcfb3-dd24-4132-997d-bb6dae1c3c33",
   "metadata": {},
   "outputs": [],
   "source": []
  },
  {
   "cell_type": "code",
   "execution_count": null,
   "id": "88c16885-98f0-4515-93e2-f1a1461c82cd",
   "metadata": {},
   "outputs": [],
   "source": []
  },
  {
   "cell_type": "code",
   "execution_count": null,
   "id": "b6e3c381-c2f3-4c72-8c81-7df3c3262c7b",
   "metadata": {},
   "outputs": [],
   "source": []
  },
  {
   "cell_type": "code",
   "execution_count": null,
   "id": "7ae8f456-782d-4a91-9be1-621d5670b30a",
   "metadata": {},
   "outputs": [],
   "source": []
  },
  {
   "cell_type": "code",
   "execution_count": null,
   "id": "d8dc8e0e-a910-4ef0-a840-8dec94637b41",
   "metadata": {},
   "outputs": [],
   "source": []
  }
 ],
 "metadata": {
  "kernelspec": {
   "display_name": "Python 3 (ipykernel)",
   "language": "python",
   "name": "python3"
  },
  "language_info": {
   "codemirror_mode": {
    "name": "ipython",
    "version": 3
   },
   "file_extension": ".py",
   "mimetype": "text/x-python",
   "name": "python",
   "nbconvert_exporter": "python",
   "pygments_lexer": "ipython3",
   "version": "3.10.2"
  }
 },
 "nbformat": 4,
 "nbformat_minor": 5
}
