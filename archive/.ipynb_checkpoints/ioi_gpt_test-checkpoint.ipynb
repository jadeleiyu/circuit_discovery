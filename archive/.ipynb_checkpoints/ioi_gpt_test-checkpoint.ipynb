{
 "cells": [
  {
   "cell_type": "code",
   "execution_count": 1,
   "id": "3b6e57f3-532f-4656-b32d-620231427191",
   "metadata": {},
   "outputs": [],
   "source": [
    "from transformers import GPT2Tokenizer, GPT2LMHeadModel\n",
    "from torch.utils.data import Dataset, DataLoader\n",
    "import torch\n",
    "import pickle\n",
    "import transformer_lens\n",
    "from torch.optim import AdamW\n",
    "from os.path import join\n",
    "from tqdm.auto import tqdm\n",
    "import torch.nn as nn\n",
    "import torch.nn.functional as F\n",
    "import yaml\n",
    "from datasets import load_from_disk\n",
    "from sklearn.model_selection import train_test_split \n",
    "\n",
    "from utils import *\n",
    "from ioi_dataset import *"
   ]
  },
  {
   "cell_type": "code",
   "execution_count": 2,
   "id": "47797458-866e-4046-8008-44c277f68d0c",
   "metadata": {},
   "outputs": [],
   "source": [
    "with open('diff_mask_ioi.yml') as f:\n",
    "    args = yaml.safe_load(f)\n",
    "\n",
    "tokenizer = GPT2Tokenizer.from_pretrained(join(args['model_dir'], args['model_name']))\n",
    "tokenizer.pad_token = tokenizer.eos_token\n",
    "\n",
    "ds = IOIDataset(prompt_type=\"ABBA\", N=1280, tokenizer=tokenizer)\n",
    "ds_train, ds_test = train_test_split(ds.ioi_prompts, test_size=0.2, random_state=0)\n",
    "# Note that there are overlaps between train and test sets, due to the way IOIDataset is constructed (randomly sample N items)\n",
    "\n",
    "ioi_ds_train = CircuitIOIDataset(prepare_ioi_data_for_clm(ds_train))\n",
    "ioi_ds_test = CircuitIOIDataset(prepare_ioi_data_for_clm(ds_test))\n",
    "\n",
    "train_dl = DataLoader(\n",
    "    ioi_ds_train,\n",
    "    batch_size=args['batch_size']\n",
    ")\n",
    "eval_dl = DataLoader(\n",
    "    ioi_ds_train,\n",
    "    batch_size=args['batch_size'],\n",
    "    shuffle=False\n",
    ")\n"
   ]
  },
  {
   "cell_type": "code",
   "execution_count": 3,
   "id": "a6344945-b0fe-40bb-9b5c-13db8e0dfbfb",
   "metadata": {},
   "outputs": [],
   "source": [
    "@torch.no_grad()\n",
    "def eval_model(model, eval_dl, tokenizer, device):\n",
    "    model.eval()\n",
    "\n",
    "    total = len(eval_dl.dataset)\n",
    "    correct = 0\n",
    "\n",
    "    for batch in eval_dl:\n",
    "        batch_inputs = prepare_batch_inputs(batch, tokenizer)\n",
    "        batch_logits = model(batch_inputs['input_ids'].to(device))[0]  # (B, seq_len, vocab_size)\n",
    "        _, batch_logits_gb = compute_faith_loss(batch_logits, batch_inputs)\n",
    "        correct += (batch_logits_gb[:, 0] > batch_logits_gb[:, 1]).sum()\n",
    "\n",
    "    acc = correct / total\n",
    "\n",
    "    return acc.item()"
   ]
  },
  {
   "cell_type": "code",
   "execution_count": 4,
   "id": "e75f290a-1cc1-4e9c-8b8d-9443dbbe8154",
   "metadata": {},
   "outputs": [],
   "source": [
    "device = torch.device('cuda')\n",
    "\n",
    "# # download gpt2-small weights from EasyTransformer and save it\n",
    "# reference_gpt2 = EasyTransformer.from_pretrained(\"gpt2-small\", fold_ln=False, center_unembed=False, center_writing_weights=False)\n",
    "# torch.save(reference_gpt2.state_dict(), join(args['model_dir'], 'gpt2-small/gpt2_small_weights.pt'))\n",
    "\n",
    "model = GPT2LMHeadModel.from_pretrained(join(args['model_dir'], args['model_name']))\n",
    "model.to(device);\n",
    "tokenizer = GPT2Tokenizer.from_pretrained(join(args['model_dir'], args['model_name']))\n",
    "tokenizer.pad_token = tokenizer.eos_token\n"
   ]
  },
  {
   "cell_type": "code",
   "execution_count": 5,
   "id": "8b6f1b1f-ac24-4025-b83e-8d4575bbe58f",
   "metadata": {},
   "outputs": [
    {
     "name": "stdout",
     "output_type": "stream",
     "text": [
      "Epoch 0. unmasked model accuracy 0.99\n"
     ]
    }
   ],
   "source": [
    "eval_acc = eval_model(model, eval_dl, tokenizer, device)\n",
    "print(\"Epoch 0. unmasked model accuracy {:.2f}\".format(eval_acc))"
   ]
  },
  {
   "cell_type": "code",
   "execution_count": null,
   "id": "9113d3ee-0abe-4e3e-a689-533ff3e2d7aa",
   "metadata": {},
   "outputs": [],
   "source": []
  },
  {
   "cell_type": "code",
   "execution_count": 6,
   "id": "77ec1e2e-d4b8-4cf2-b108-e4761d72f36d",
   "metadata": {},
   "outputs": [
    {
     "data": {
      "text/plain": [
       "{'prompt': 'While Stephanie and Robert were commuting to the hospital, Robert gave a snack to',\n",
       " 'target good': ' Stephanie',\n",
       " 'target bad': ' Robert'}"
      ]
     },
     "execution_count": 6,
     "metadata": {},
     "output_type": "execute_result"
    }
   ],
   "source": [
    "ioi_ds_train[0]"
   ]
  },
  {
   "cell_type": "code",
   "execution_count": null,
   "id": "6d533596-a99b-4d8e-af14-7e2f33f9fb23",
   "metadata": {},
   "outputs": [],
   "source": []
  },
  {
   "cell_type": "code",
   "execution_count": null,
   "id": "138a2d25-4829-4798-9b22-75ff90a49be7",
   "metadata": {},
   "outputs": [],
   "source": []
  },
  {
   "cell_type": "code",
   "execution_count": null,
   "id": "6a133a0d-ff46-4baf-b52a-f115746c36b8",
   "metadata": {},
   "outputs": [],
   "source": []
  }
 ],
 "metadata": {
  "kernelspec": {
   "display_name": "Python 3 (ipykernel)",
   "language": "python",
   "name": "python3"
  },
  "language_info": {
   "codemirror_mode": {
    "name": "ipython",
    "version": 3
   },
   "file_extension": ".py",
   "mimetype": "text/x-python",
   "name": "python",
   "nbconvert_exporter": "python",
   "pygments_lexer": "ipython3",
   "version": "3.10.2"
  }
 },
 "nbformat": 4,
 "nbformat_minor": 5
}
