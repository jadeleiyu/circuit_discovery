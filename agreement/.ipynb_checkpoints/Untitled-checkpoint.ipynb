{
 "cells": [
  {
   "cell_type": "code",
   "execution_count": 1,
   "id": "d256da45-46c7-4dce-a2a9-5a4bd5efc36c",
   "metadata": {},
   "outputs": [],
   "source": [
    "from datasets import load_from_disk\n",
    "from agreement_dataset import *\n",
    "from agreement_utils import *\n",
    "\n",
    "data_dir = '/home/leiyu/projects/def-yangxu/leiyu/circuit-discovery/data/'"
   ]
  },
  {
   "cell_type": "code",
   "execution_count": 2,
   "id": "8c06e945-e3a8-4b6d-9102-ceb574c0b8fb",
   "metadata": {},
   "outputs": [],
   "source": [
    "ds_path = data_dir + 'anaphor_gender_agreement'\n",
    "raw_agreement_ds_g = load_from_disk(ds_path)['train']\n",
    "raw_agreement_ds_clm_g = prepare_data_for_clm(raw_agreement_ds_g)"
   ]
  },
  {
   "cell_type": "code",
   "execution_count": 5,
   "id": "8faa6602-774c-42eb-b717-2d55a1775cab",
   "metadata": {
    "scrolled": true
   },
   "outputs": [],
   "source": [
    "ds_path = data_dir + 'anaphor_number_agreement'\n",
    "raw_agreement_ds_n = load_from_disk(ds_path)['train']\n",
    "raw_agreement_ds_clm_n = prepare_data_for_clm(raw_agreement_ds_n)"
   ]
  },
  {
   "cell_type": "code",
   "execution_count": 4,
   "id": "6d11f0cd-9a07-4f2f-9205-f18c54377056",
   "metadata": {},
   "outputs": [
    {
     "data": {
      "text/plain": [
       "Dataset({\n",
       "    features: ['sentence_good', 'sentence_bad', 'field', 'linguistics_term', 'UID', 'simple_LM_method', 'one_prefix_method', 'two_prefix_method', 'lexically_identical', 'pair_id'],\n",
       "    num_rows: 1000\n",
       "})"
      ]
     },
     "execution_count": 4,
     "metadata": {},
     "output_type": "execute_result"
    }
   ],
   "source": [
    "raw_agreement_ds_g"
   ]
  },
  {
   "cell_type": "code",
   "execution_count": 6,
   "id": "66ceffa3-1376-4a82-9875-91ff9ee9f4f0",
   "metadata": {},
   "outputs": [
    {
     "data": {
      "text/plain": [
       "Dataset({\n",
       "    features: ['sentence_good', 'sentence_bad', 'field', 'linguistics_term', 'UID', 'simple_LM_method', 'one_prefix_method', 'two_prefix_method', 'lexically_identical', 'pair_id'],\n",
       "    num_rows: 1000\n",
       "})"
      ]
     },
     "execution_count": 6,
     "metadata": {},
     "output_type": "execute_result"
    }
   ],
   "source": [
    "raw_agreement_ds_n"
   ]
  },
  {
   "cell_type": "code",
   "execution_count": 8,
   "id": "789f2ac1-e499-40b4-8e94-426e100ca2ae",
   "metadata": {
    "scrolled": true
   },
   "outputs": [
    {
     "data": {
      "text/plain": [
       "dict_keys(['prompt', 'targets'])"
      ]
     },
     "execution_count": 8,
     "metadata": {},
     "output_type": "execute_result"
    }
   ],
   "source": [
    "raw_agreement_ds_clm_g.keys()"
   ]
  },
  {
   "cell_type": "code",
   "execution_count": null,
   "id": "03049da8-aee5-44e3-8e87-daa085cd787a",
   "metadata": {},
   "outputs": [],
   "source": []
  }
 ],
 "metadata": {
  "kernelspec": {
   "display_name": "Python 3 (ipykernel)",
   "language": "python",
   "name": "python3"
  },
  "language_info": {
   "codemirror_mode": {
    "name": "ipython",
    "version": 3
   },
   "file_extension": ".py",
   "mimetype": "text/x-python",
   "name": "python",
   "nbconvert_exporter": "python",
   "pygments_lexer": "ipython3",
   "version": "3.10.2"
  }
 },
 "nbformat": 4,
 "nbformat_minor": 5
}
