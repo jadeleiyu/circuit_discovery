{
 "cells": [
  {
   "cell_type": "code",
   "execution_count": 1,
   "id": "d256da45-46c7-4dce-a2a9-5a4bd5efc36c",
   "metadata": {},
   "outputs": [],
   "source": [
    "from datasets import load_from_disk\n",
    "from agreement_dataset import *\n",
    "from agreement_utils import *\n",
    "\n",
    "data_dir = '/home/leiyu/projects/def-yangxu/leiyu/circuit-discovery/data/'"
   ]
  },
  {
   "cell_type": "code",
   "execution_count": null,
   "id": "b8523e61-f827-4af2-b244-fe590284eb54",
   "metadata": {},
   "outputs": [],
   "source": []
  },
  {
   "cell_type": "code",
   "execution_count": null,
   "id": "195d31fd-c6e3-45f3-b6f9-bf98f466bcf1",
   "metadata": {},
   "outputs": [],
   "source": []
  },
  {
   "cell_type": "code",
   "execution_count": null,
   "id": "b13187dc-c55a-45b3-bb62-4a6814254074",
   "metadata": {},
   "outputs": [],
   "source": []
  },
  {
   "cell_type": "code",
   "execution_count": null,
   "id": "03049da8-aee5-44e3-8e87-daa085cd787a",
   "metadata": {},
   "outputs": [],
   "source": []
  }
 ],
 "metadata": {
  "kernelspec": {
   "display_name": "Python 3 (ipykernel)",
   "language": "python",
   "name": "python3"
  },
  "language_info": {
   "codemirror_mode": {
    "name": "ipython",
    "version": 3
   },
   "file_extension": ".py",
   "mimetype": "text/x-python",
   "name": "python",
   "nbconvert_exporter": "python",
   "pygments_lexer": "ipython3",
   "version": "3.10.2"
  }
 },
 "nbformat": 4,
 "nbformat_minor": 5
}
